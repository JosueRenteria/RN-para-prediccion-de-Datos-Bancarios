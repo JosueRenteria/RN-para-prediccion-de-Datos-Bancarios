{
  "cells": [
    {
      "cell_type": "markdown",
      "source": [
        "# Ejercicio de Redes Neuronales"
      ],
      "metadata": {
        "id": "uH-sigqbpjZv"
      }
    },
    {
      "cell_type": "markdown",
      "source": [
        "## Descripción del Problema"
      ],
      "metadata": {
        "id": "b1R0FZnN6tfH"
      }
    },
    {
      "cell_type": "markdown",
      "source": [
        "Se tiene un DataSet de clientes inscritos en un banco y el banco desea saber porque los clientes están abandonando el banco y porque la gente se está yendo. Todos los datos están guardados en el DataSet (.csv). Este problema ayuda si una persona es o no es (positivo o negativo, 1 o 0). Problema de Clasificación "
      ],
      "metadata": {
        "id": "ili_6dnw5HyK"
      }
    },
    {
      "cell_type": "markdown",
      "source": [
        "## Pre procesamiento de Datos"
      ],
      "metadata": {
        "id": "CGD5j_8X50XY"
      }
    },
    {
      "cell_type": "markdown",
      "source": [
        "### Importacion del DataSet"
      ],
      "metadata": {
        "id": "uwj4lNos90oI"
      }
    },
    {
      "cell_type": "markdown",
      "source": [
        "Exportamos las librerias importantes para iniciar el programa."
      ],
      "metadata": {
        "id": "cVfr3XdX7gt3"
      }
    },
    {
      "cell_type": "code",
      "source": [
        "import numpy as np\n",
        "import matplotlib.pyplot as plt\n",
        "import pandas as pd"
      ],
      "metadata": {
        "id": "z4q8Bk8_6PU2"
      },
      "execution_count": null,
      "outputs": []
    },
    {
      "cell_type": "markdown",
      "source": [
        "Conexion a mi carpeta de Google Drive."
      ],
      "metadata": {
        "id": "cxdN4KPn-Qjh"
      }
    },
    {
      "cell_type": "code",
      "source": [
        "from google.colab import drive\n",
        "drive.mount('/content/drive')"
      ],
      "metadata": {
        "colab": {
          "base_uri": "https://localhost:8080/"
        },
        "id": "Dbjrhhnb-X6D",
        "outputId": "76b120f4-a144-48a2-8eb8-401450953004"
      },
      "execution_count": null,
      "outputs": [
        {
          "output_type": "stream",
          "name": "stdout",
          "text": [
            "Mounted at /content/drive\n"
          ]
        }
      ]
    },
    {
      "cell_type": "markdown",
      "source": [
        "Conexion al archivo que deseo ocupar (Datos del Banco)."
      ],
      "metadata": {
        "id": "_U54xCNy-la_"
      }
    },
    {
      "cell_type": "code",
      "source": [
        "dataset = pd.read_csv('/content/drive/MyDrive/Curso de Deep Learning de la A a la Z/datasets/Part 1 - Artificial Neural Networks (ANN)/Churn_Modelling.csv')\n",
        "# print(dataset)"
      ],
      "metadata": {
        "id": "0cZqTagn-swo"
      },
      "execution_count": null,
      "outputs": []
    },
    {
      "cell_type": "markdown",
      "source": [
        "Extraccion de las filas y columnas."
      ],
      "metadata": {
        "id": "12OjUlvw_Rnk"
      }
    },
    {
      "cell_type": "code",
      "source": [
        "# Matriz de Caracteristicas.\n",
        "X = dataset.iloc[:, 3:13].values\n",
        "# Vector de la variable dependiente.\n",
        "y = dataset.iloc[:, 13].values"
      ],
      "metadata": {
        "id": "ITbVgWkNAE-c"
      },
      "execution_count": null,
      "outputs": []
    },
    {
      "cell_type": "markdown",
      "source": [
        "### Codificar datos categóricos"
      ],
      "metadata": {
        "id": "N1AeU6iCBgZ9"
      }
    },
    {
      "cell_type": "markdown",
      "source": [
        "Importamos la libreria para el maching learning."
      ],
      "metadata": {
        "id": "QlqZd0T0BlBt"
      }
    },
    {
      "cell_type": "code",
      "source": [
        "from sklearn.preprocessing import LabelEncoder"
      ],
      "metadata": {
        "id": "XtB7EJpVBlKX"
      },
      "execution_count": null,
      "outputs": []
    },
    {
      "cell_type": "markdown",
      "source": [
        "Codificamos las variables categoricas que no son numeros y se hacen variables dummy (0 o 1)."
      ],
      "metadata": {
        "id": "a48UxP8CBwBA"
      }
    },
    {
      "cell_type": "code",
      "source": [
        "# Codificamos en variable Damit el apartado de \"Geografia\", lo pasa a numeros (0, 1, 2, etc. Dependiendo el pais).\n",
        "labelencoder_X_1 = LabelEncoder()\n",
        "X[:, 1] = labelencoder_X_1.fit_transform(X[:, 1])\n",
        "\n",
        "# Codificamos en variable Damit el apartado de \"Genero\" (0 o 1 dependiendo el genero).\n",
        "labelencoder_X_2 = LabelEncoder()\n",
        "X[:, 2] = labelencoder_X_2.fit_transform(X[:, 2])"
      ],
      "metadata": {
        "id": "Zh4bOvSbBwyH"
      },
      "execution_count": null,
      "outputs": []
    },
    {
      "cell_type": "markdown",
      "source": [
        "Importamos las librerias de Maching Learning para transformar todas las variables a unas mismas y no tener categoricas y numericas."
      ],
      "metadata": {
        "id": "tar57c7sDUTL"
      }
    },
    {
      "cell_type": "code",
      "source": [
        "from sklearn.preprocessing import OneHotEncoder\n",
        "from sklearn.compose import ColumnTransformer"
      ],
      "metadata": {
        "id": "CF9UlDr1DUfW"
      },
      "execution_count": null,
      "outputs": []
    },
    {
      "cell_type": "markdown",
      "source": [
        "Creamos en la columna de paises que se separen en mas filas dependiendo el pais."
      ],
      "metadata": {
        "id": "K1hrQLrNDdNI"
      }
    },
    {
      "cell_type": "code",
      "source": [
        "# Una lista de transformaciones.\n",
        "transformer = ColumnTransformer(\n",
        "    transformers=[\n",
        "        (\"Churn_Modelling\",        # Un nombre de la transformación\n",
        "         OneHotEncoder(categories='auto'), # La clase a la que transformar\n",
        "         [1]            # Especifica que se transformará la segunda columna (índice 1) del conjunto de datos original\n",
        "         )\n",
        "    ], remainder='passthrough' # Las columnas que no se especificaron en la lista de transformaciones se mantendrán sin cambios.\n",
        ")\n",
        "\n",
        "X = transformer.fit_transform(X)\n",
        "X = X[:, 1:]"
      ],
      "metadata": {
        "id": "K7z61TpGDdX5"
      },
      "execution_count": null,
      "outputs": []
    },
    {
      "cell_type": "markdown",
      "source": [
        "### Implementamos la tecnica de k-Foald Cross Validation"
      ],
      "metadata": {
        "id": "q-EZyLFFF8PW"
      }
    },
    {
      "cell_type": "markdown",
      "source": [
        "Importamos libreria para dividir los conjuntos de entrenamiento y test."
      ],
      "metadata": {
        "id": "knjTzoNIF-kA"
      }
    },
    {
      "cell_type": "code",
      "source": [
        "from sklearn.model_selection import train_test_split"
      ],
      "metadata": {
        "id": "WllCa5kmF-vA"
      },
      "execution_count": null,
      "outputs": []
    },
    {
      "cell_type": "markdown",
      "source": [
        "Definimos las variables de entrenamiento y las variables que se ocuparan para hacer el test."
      ],
      "metadata": {
        "id": "o0fefOahGNAU"
      }
    },
    {
      "cell_type": "code",
      "source": [
        "X_train, X_test, y_train, y_test = train_test_split(X, y, test_size = 0.2, random_state = 0)"
      ],
      "metadata": {
        "id": "D1JiRdDGGNK-"
      },
      "execution_count": null,
      "outputs": []
    },
    {
      "cell_type": "markdown",
      "source": [
        "### Escalado de Variables."
      ],
      "metadata": {
        "id": "IgOsQfKJGpES"
      }
    },
    {
      "cell_type": "markdown",
      "source": [
        "Importamos la libreria para el escalado."
      ],
      "metadata": {
        "id": "Wj_-PrgeHR3Z"
      }
    },
    {
      "cell_type": "code",
      "source": [
        "from sklearn.preprocessing import StandardScaler"
      ],
      "metadata": {
        "id": "dDkqK418HSLr"
      },
      "execution_count": null,
      "outputs": []
    },
    {
      "cell_type": "markdown",
      "source": [
        "Se realiza un escalado de variables cuando las escalas de los numeros son diferentes (En este caso tenemos muchas variables en rango de 0 o 1, numericas, precios, etc.). Aqui puede que tengamos variables negativas y que ya no entendamos muy bien (Variables Normalizadas)."
      ],
      "metadata": {
        "id": "L2RgWbaQGptq"
      }
    },
    {
      "cell_type": "code",
      "source": [
        "# Declaramos el metodo para el escalado\n",
        "sc_X = StandardScaler()\n",
        "\n",
        "# Ponemos el escalado a las variables de entrenamiento X. Calculamos el cambio de escala y lo aplicamos. \n",
        "X_train = sc_X.fit_transform(X_train)\n",
        "# Ponemos el escalado a las variables de test X. Aqui solo se hace el transform ya que en la anterior linea se calculo.\n",
        "X_test = sc_X.transform(X_test)"
      ],
      "metadata": {
        "id": "y1bfPg4uGp3W"
      },
      "execution_count": null,
      "outputs": []
    },
    {
      "cell_type": "markdown",
      "source": [
        "## Parte 2 - Construir la RNA"
      ],
      "metadata": {
        "id": "d014JTIkIFY0"
      }
    },
    {
      "cell_type": "markdown",
      "source": [
        "### Importamos las librerias para trabajar nuestra Red Neuronal"
      ],
      "metadata": {
        "id": "9Cr0nc77IHqT"
      }
    },
    {
      "cell_type": "markdown",
      "source": [
        "Importacion de Keras y librerías adicionales."
      ],
      "metadata": {
        "id": "TlMLzgdHJpfN"
      }
    },
    {
      "cell_type": "code",
      "source": [
        "import keras\n",
        "from keras.models import Sequential\n",
        "from keras.layers import Dense\n",
        "from keras.layers import Dropout"
      ],
      "metadata": {
        "id": "FCepLENcJoCM"
      },
      "execution_count": null,
      "outputs": []
    },
    {
      "cell_type": "markdown",
      "source": [
        "Creamos y inicializamos el modelo de clasificacion (Red Neuronal Artificial)."
      ],
      "metadata": {
        "id": "QDWXynjeKFS2"
      }
    },
    {
      "cell_type": "code",
      "source": [
        "# Inicializacion del Modelo de la RNA (con Sequential)\n",
        "classifier = Sequential()"
      ],
      "metadata": {
        "id": "sb9HVi0HKFft"
      },
      "execution_count": null,
      "outputs": []
    },
    {
      "cell_type": "markdown",
      "source": [
        "Creamos la Capas de manera sucesiva con una secuencia de capas. Y añadimos las clases que tendra esta."
      ],
      "metadata": {
        "id": "EymAXbdDLQmF"
      }
    },
    {
      "cell_type": "markdown",
      "source": [
        "*   units: especifica el número de neuronas en la capa (en este caso, 6).\n",
        "*   kernel_initializer: especifica cómo se inicializan los pesos de las conexiones entre las neuronas de la capa (en este caso, de forma uniforme).\n",
        "*   activation: especifica la función de activación a utilizar en las neuronas de la capa (en este caso, ReLU).\n",
        "*   input_dim: especifica el número de variables de entrada en la capa (en este caso, 11).\n",
        "\n",
        "\n"
      ],
      "metadata": {
        "id": "Eqxg0ZZ3MEP0"
      }
    },
    {
      "cell_type": "code",
      "source": [
        "# Añadir las capas de entrada y primera capa oculta\n",
        "classifier.add(Dense(units = 6, kernel_initializer = \"uniform\",  \n",
        "                     activation = \"relu\", input_dim = 11))\n",
        "\n",
        "# Añadir la segunda capa oculta\n",
        "classifier.add(Dense(units = 6, kernel_initializer = \"uniform\",  \n",
        "                     activation = \"relu\"))\n",
        "\n",
        "# Añadir la capa de salida\n",
        "classifier.add(Dense(units = 1, kernel_initializer = \"uniform\",  \n",
        "                     activation = \"sigmoid\"))"
      ],
      "metadata": {
        "id": "NJziuCMwLQuc"
      },
      "execution_count": null,
      "outputs": []
    },
    {
      "cell_type": "markdown",
      "source": [
        "Compilamos y configuramos el Modelo de la Red Neuronal"
      ],
      "metadata": {
        "id": "NpOKOKpYLpbp"
      }
    },
    {
      "cell_type": "markdown",
      "source": [
        "*   optimizer: especifica el algoritmo de optimización a utilizar para minimizar la función de pérdida del modelo durante el entrenamiento. En este caso, se utiliza el algoritmo de optimización Adam (\"adam\").\n",
        "*   loss: especifica la función de pérdida que se utilizará para evaluar la precisión del modelo durante el entrenamiento. En este caso, se utiliza la función de pérdida binaria cruzada (\"binary_crossentropy\") porque se está trabajando en un problema de clasificación binaria.\n",
        "*   metrics: especifica la métrica a utilizar para evaluar el desempeño del modelo durante el entrenamiento. En este caso, se utiliza la métrica de precisión (\"accuracy\"), que mide la fracción de predicciones correctas del modelo."
      ],
      "metadata": {
        "id": "a_QkAojiS_Ac"
      }
    },
    {
      "cell_type": "code",
      "source": [
        " # Compilar la RNA\n",
        "classifier.compile(optimizer = \"adam\", loss = \"binary_crossentropy\", metrics = [\"accuracy\"])"
      ],
      "metadata": {
        "id": "_iqrbYlMLppg"
      },
      "execution_count": null,
      "outputs": []
    },
    {
      "cell_type": "markdown",
      "source": [
        "Entrenamos la Red Neuronal."
      ],
      "metadata": {
        "id": "OZQYIzNhT5qi"
      }
    },
    {
      "cell_type": "code",
      "source": [
        "# Ajustamos la RNA al Conjunto de Entrenamiento\n",
        "classifier.fit(X_train, y_train,  batch_size = 10, epochs = 100)"
      ],
      "metadata": {
        "id": "PaD66xdbT5zE",
        "outputId": "c607ad56-a6d5-47bc-9e62-265370118f1d",
        "colab": {
          "base_uri": "https://localhost:8080/"
        }
      },
      "execution_count": null,
      "outputs": [
        {
          "output_type": "stream",
          "name": "stdout",
          "text": [
            "Epoch 1/100\n",
            "800/800 [==============================] - 2s 1ms/step - loss: 0.4857 - accuracy: 0.7955\n",
            "Epoch 2/100\n",
            "800/800 [==============================] - 1s 1ms/step - loss: 0.4181 - accuracy: 0.7960\n",
            "Epoch 3/100\n",
            "800/800 [==============================] - 1s 1ms/step - loss: 0.4016 - accuracy: 0.8041\n",
            "Epoch 4/100\n",
            "800/800 [==============================] - 1s 1ms/step - loss: 0.3833 - accuracy: 0.8329\n",
            "Epoch 5/100\n",
            "800/800 [==============================] - 1s 1ms/step - loss: 0.3719 - accuracy: 0.8485\n",
            "Epoch 6/100\n",
            "800/800 [==============================] - 1s 1ms/step - loss: 0.3649 - accuracy: 0.8547\n",
            "Epoch 7/100\n",
            "800/800 [==============================] - 1s 2ms/step - loss: 0.3604 - accuracy: 0.8565\n",
            "Epoch 8/100\n",
            "800/800 [==============================] - 1s 2ms/step - loss: 0.3579 - accuracy: 0.8584\n",
            "Epoch 9/100\n",
            "800/800 [==============================] - 1s 1ms/step - loss: 0.3565 - accuracy: 0.8575\n",
            "Epoch 10/100\n",
            "800/800 [==============================] - 1s 1ms/step - loss: 0.3545 - accuracy: 0.8569\n",
            "Epoch 11/100\n",
            "800/800 [==============================] - 1s 1ms/step - loss: 0.3537 - accuracy: 0.8580\n",
            "Epoch 12/100\n",
            "800/800 [==============================] - 1s 1ms/step - loss: 0.3516 - accuracy: 0.8599\n",
            "Epoch 13/100\n",
            "800/800 [==============================] - 1s 1ms/step - loss: 0.3516 - accuracy: 0.8593\n",
            "Epoch 14/100\n",
            "800/800 [==============================] - 1s 1ms/step - loss: 0.3505 - accuracy: 0.8589\n",
            "Epoch 15/100\n",
            "800/800 [==============================] - 1s 1ms/step - loss: 0.3493 - accuracy: 0.8585\n",
            "Epoch 16/100\n",
            "800/800 [==============================] - 1s 1ms/step - loss: 0.3489 - accuracy: 0.8569\n",
            "Epoch 17/100\n",
            "800/800 [==============================] - 1s 1ms/step - loss: 0.3483 - accuracy: 0.8595\n",
            "Epoch 18/100\n",
            "800/800 [==============================] - 1s 1ms/step - loss: 0.3474 - accuracy: 0.8596\n",
            "Epoch 19/100\n",
            "800/800 [==============================] - 1s 2ms/step - loss: 0.3480 - accuracy: 0.8591\n",
            "Epoch 20/100\n",
            "800/800 [==============================] - 2s 3ms/step - loss: 0.3462 - accuracy: 0.8609\n",
            "Epoch 21/100\n",
            "800/800 [==============================] - 2s 2ms/step - loss: 0.3466 - accuracy: 0.8606\n",
            "Epoch 22/100\n",
            "800/800 [==============================] - 3s 3ms/step - loss: 0.3461 - accuracy: 0.8609\n",
            "Epoch 23/100\n",
            "800/800 [==============================] - 2s 2ms/step - loss: 0.3463 - accuracy: 0.8608\n",
            "Epoch 24/100\n",
            "800/800 [==============================] - 2s 2ms/step - loss: 0.3455 - accuracy: 0.8591\n",
            "Epoch 25/100\n",
            "800/800 [==============================] - 1s 1ms/step - loss: 0.3450 - accuracy: 0.8596\n",
            "Epoch 26/100\n",
            "800/800 [==============================] - 1s 2ms/step - loss: 0.3444 - accuracy: 0.8609\n",
            "Epoch 27/100\n",
            "800/800 [==============================] - 2s 3ms/step - loss: 0.3446 - accuracy: 0.8605\n",
            "Epoch 28/100\n",
            "800/800 [==============================] - 2s 2ms/step - loss: 0.3442 - accuracy: 0.8619\n",
            "Epoch 29/100\n",
            "800/800 [==============================] - 1s 2ms/step - loss: 0.3441 - accuracy: 0.8602\n",
            "Epoch 30/100\n",
            "800/800 [==============================] - 1s 2ms/step - loss: 0.3441 - accuracy: 0.8591\n",
            "Epoch 31/100\n",
            "800/800 [==============================] - 1s 1ms/step - loss: 0.3436 - accuracy: 0.8610\n",
            "Epoch 32/100\n",
            "800/800 [==============================] - 1s 2ms/step - loss: 0.3439 - accuracy: 0.8604\n",
            "Epoch 33/100\n",
            "800/800 [==============================] - 1s 2ms/step - loss: 0.3429 - accuracy: 0.8621\n",
            "Epoch 34/100\n",
            "800/800 [==============================] - 2s 2ms/step - loss: 0.3429 - accuracy: 0.8616\n",
            "Epoch 35/100\n",
            "800/800 [==============================] - 1s 2ms/step - loss: 0.3428 - accuracy: 0.8625\n",
            "Epoch 36/100\n",
            "800/800 [==============================] - 1s 2ms/step - loss: 0.3434 - accuracy: 0.8602\n",
            "Epoch 37/100\n",
            "800/800 [==============================] - 1s 2ms/step - loss: 0.3431 - accuracy: 0.8618\n",
            "Epoch 38/100\n",
            "800/800 [==============================] - 1s 1ms/step - loss: 0.3428 - accuracy: 0.8615\n",
            "Epoch 39/100\n",
            "800/800 [==============================] - 1s 1ms/step - loss: 0.3424 - accuracy: 0.8609\n",
            "Epoch 40/100\n",
            "800/800 [==============================] - 1s 1ms/step - loss: 0.3423 - accuracy: 0.8621\n",
            "Epoch 41/100\n",
            "800/800 [==============================] - 1s 1ms/step - loss: 0.3421 - accuracy: 0.8595\n",
            "Epoch 42/100\n",
            "800/800 [==============================] - 1s 1ms/step - loss: 0.3418 - accuracy: 0.8601\n",
            "Epoch 43/100\n",
            "800/800 [==============================] - 1s 1ms/step - loss: 0.3427 - accuracy: 0.8618\n",
            "Epoch 44/100\n",
            "800/800 [==============================] - 1s 1ms/step - loss: 0.3422 - accuracy: 0.8629\n",
            "Epoch 45/100\n",
            "800/800 [==============================] - 1s 1ms/step - loss: 0.3421 - accuracy: 0.8626\n",
            "Epoch 46/100\n",
            "800/800 [==============================] - 1s 1ms/step - loss: 0.3421 - accuracy: 0.8597\n",
            "Epoch 47/100\n",
            "800/800 [==============================] - 1s 2ms/step - loss: 0.3416 - accuracy: 0.8620\n",
            "Epoch 48/100\n",
            "800/800 [==============================] - 1s 2ms/step - loss: 0.3416 - accuracy: 0.8616\n",
            "Epoch 49/100\n",
            "800/800 [==============================] - 1s 1ms/step - loss: 0.3414 - accuracy: 0.8612\n",
            "Epoch 50/100\n",
            "800/800 [==============================] - 1s 1ms/step - loss: 0.3420 - accuracy: 0.8621\n",
            "Epoch 51/100\n",
            "800/800 [==============================] - 1s 1ms/step - loss: 0.3412 - accuracy: 0.8629\n",
            "Epoch 52/100\n",
            "800/800 [==============================] - 1s 1ms/step - loss: 0.3417 - accuracy: 0.8630\n",
            "Epoch 53/100\n",
            "800/800 [==============================] - 1s 1ms/step - loss: 0.3411 - accuracy: 0.8614\n",
            "Epoch 54/100\n",
            "800/800 [==============================] - 1s 1ms/step - loss: 0.3409 - accuracy: 0.8626\n",
            "Epoch 55/100\n",
            "800/800 [==============================] - 1s 1ms/step - loss: 0.3414 - accuracy: 0.8615\n",
            "Epoch 56/100\n",
            "800/800 [==============================] - 1s 1ms/step - loss: 0.3416 - accuracy: 0.8605\n",
            "Epoch 57/100\n",
            "800/800 [==============================] - 1s 1ms/step - loss: 0.3410 - accuracy: 0.8596\n",
            "Epoch 58/100\n",
            "800/800 [==============================] - 1s 2ms/step - loss: 0.3410 - accuracy: 0.8612\n",
            "Epoch 59/100\n",
            "800/800 [==============================] - 1s 2ms/step - loss: 0.3404 - accuracy: 0.8636\n",
            "Epoch 60/100\n",
            "800/800 [==============================] - 1s 2ms/step - loss: 0.3411 - accuracy: 0.8625\n",
            "Epoch 61/100\n",
            "800/800 [==============================] - 1s 1ms/step - loss: 0.3407 - accuracy: 0.8619\n",
            "Epoch 62/100\n",
            "800/800 [==============================] - 1s 1ms/step - loss: 0.3407 - accuracy: 0.8609\n",
            "Epoch 63/100\n",
            "800/800 [==============================] - 1s 1ms/step - loss: 0.3409 - accuracy: 0.8599\n",
            "Epoch 64/100\n",
            "800/800 [==============================] - 1s 1ms/step - loss: 0.3408 - accuracy: 0.8625\n",
            "Epoch 65/100\n",
            "800/800 [==============================] - 1s 1ms/step - loss: 0.3409 - accuracy: 0.8618\n",
            "Epoch 66/100\n",
            "800/800 [==============================] - 1s 1ms/step - loss: 0.3405 - accuracy: 0.8620\n",
            "Epoch 67/100\n",
            "800/800 [==============================] - 1s 1ms/step - loss: 0.3400 - accuracy: 0.8609\n",
            "Epoch 68/100\n",
            "800/800 [==============================] - 1s 1ms/step - loss: 0.3396 - accuracy: 0.8614\n",
            "Epoch 69/100\n",
            "800/800 [==============================] - 1s 1ms/step - loss: 0.3400 - accuracy: 0.8625\n",
            "Epoch 70/100\n",
            "800/800 [==============================] - 1s 2ms/step - loss: 0.3405 - accuracy: 0.8614\n",
            "Epoch 71/100\n",
            "800/800 [==============================] - 1s 2ms/step - loss: 0.3411 - accuracy: 0.8611\n",
            "Epoch 72/100\n",
            "800/800 [==============================] - 1s 1ms/step - loss: 0.3406 - accuracy: 0.8594\n",
            "Epoch 73/100\n",
            "800/800 [==============================] - 1s 1ms/step - loss: 0.3402 - accuracy: 0.8610\n",
            "Epoch 74/100\n",
            "800/800 [==============================] - 1s 1ms/step - loss: 0.3400 - accuracy: 0.8611\n",
            "Epoch 75/100\n",
            "800/800 [==============================] - 1s 1ms/step - loss: 0.3399 - accuracy: 0.8599\n",
            "Epoch 76/100\n",
            "800/800 [==============================] - 1s 1ms/step - loss: 0.3407 - accuracy: 0.8621\n",
            "Epoch 77/100\n",
            "800/800 [==============================] - 1s 1ms/step - loss: 0.3399 - accuracy: 0.8619\n",
            "Epoch 78/100\n",
            "800/800 [==============================] - 1s 1ms/step - loss: 0.3404 - accuracy: 0.8637\n",
            "Epoch 79/100\n",
            "800/800 [==============================] - 1s 1ms/step - loss: 0.3402 - accuracy: 0.8609\n",
            "Epoch 80/100\n",
            "800/800 [==============================] - 1s 1ms/step - loss: 0.3401 - accuracy: 0.8605\n",
            "Epoch 81/100\n",
            "800/800 [==============================] - 1s 2ms/step - loss: 0.3407 - accuracy: 0.8625\n",
            "Epoch 82/100\n",
            "800/800 [==============================] - 1s 2ms/step - loss: 0.3403 - accuracy: 0.8629\n",
            "Epoch 83/100\n",
            "800/800 [==============================] - 1s 2ms/step - loss: 0.3399 - accuracy: 0.8614\n",
            "Epoch 84/100\n",
            "800/800 [==============================] - 1s 1ms/step - loss: 0.3403 - accuracy: 0.8627\n",
            "Epoch 85/100\n",
            "800/800 [==============================] - 1s 1ms/step - loss: 0.3399 - accuracy: 0.8620\n",
            "Epoch 86/100\n",
            "800/800 [==============================] - 1s 1ms/step - loss: 0.3404 - accuracy: 0.8618\n",
            "Epoch 87/100\n",
            "800/800 [==============================] - 1s 1ms/step - loss: 0.3397 - accuracy: 0.8616\n",
            "Epoch 88/100\n",
            "800/800 [==============================] - 1s 1ms/step - loss: 0.3401 - accuracy: 0.8601\n",
            "Epoch 89/100\n",
            "800/800 [==============================] - 1s 1ms/step - loss: 0.3401 - accuracy: 0.8629\n",
            "Epoch 90/100\n",
            "800/800 [==============================] - 1s 1ms/step - loss: 0.3403 - accuracy: 0.8596\n",
            "Epoch 91/100\n",
            "800/800 [==============================] - 1s 1ms/step - loss: 0.3401 - accuracy: 0.8605\n",
            "Epoch 92/100\n",
            "800/800 [==============================] - 1s 2ms/step - loss: 0.3396 - accuracy: 0.8606\n",
            "Epoch 93/100\n",
            "800/800 [==============================] - 1s 2ms/step - loss: 0.3399 - accuracy: 0.8630\n",
            "Epoch 94/100\n",
            "800/800 [==============================] - 1s 2ms/step - loss: 0.3401 - accuracy: 0.8631\n",
            "Epoch 95/100\n",
            "800/800 [==============================] - 1s 1ms/step - loss: 0.3396 - accuracy: 0.8622\n",
            "Epoch 96/100\n",
            "800/800 [==============================] - 1s 1ms/step - loss: 0.3393 - accuracy: 0.8620\n",
            "Epoch 97/100\n",
            "800/800 [==============================] - 1s 1ms/step - loss: 0.3399 - accuracy: 0.8606\n",
            "Epoch 98/100\n",
            "800/800 [==============================] - 1s 1ms/step - loss: 0.3400 - accuracy: 0.8618\n",
            "Epoch 99/100\n",
            "800/800 [==============================] - 1s 1ms/step - loss: 0.3397 - accuracy: 0.8609\n",
            "Epoch 100/100\n",
            "800/800 [==============================] - 1s 1ms/step - loss: 0.3399 - accuracy: 0.8614\n"
          ]
        },
        {
          "output_type": "execute_result",
          "data": {
            "text/plain": [
              "<keras.callbacks.History at 0x7fa73869e8e0>"
            ]
          },
          "metadata": {},
          "execution_count": 17
        }
      ]
    },
    {
      "cell_type": "markdown",
      "source": [
        "## Parte 3 - Evaluar el modelo y calcular predicciones finales"
      ],
      "metadata": {
        "id": "bVNv0kgbY9_j"
      }
    },
    {
      "cell_type": "markdown",
      "source": [
        "### Predicción de los resultados con el Conjunto de Testing"
      ],
      "metadata": {
        "id": "Qvlhpg9LZBSe"
      }
    },
    {
      "cell_type": "markdown",
      "source": [
        "Corremos la parte del teating con datos que la red neuronal no conoce."
      ],
      "metadata": {
        "id": "ZMZuU41gZFcG"
      }
    },
    {
      "cell_type": "code",
      "source": [
        "# Sacamos los valores de prediccion.\n",
        "y_pred  = classifier.predict(X_test)\n",
        "# Redondeamos los valores a Falso o Verdadero\n",
        "y_pred = (y_pred > 0.5)"
      ],
      "metadata": {
        "colab": {
          "base_uri": "https://localhost:8080/"
        },
        "id": "aANBRnUIZFph",
        "outputId": "84f5a9eb-cc52-4f86-b8fb-b4a8b3342fb5"
      },
      "execution_count": null,
      "outputs": [
        {
          "output_type": "stream",
          "name": "stdout",
          "text": [
            "63/63 [==============================] - 0s 905us/step\n"
          ]
        }
      ]
    },
    {
      "cell_type": "markdown",
      "source": [
        "Exportamos la libreria para la Matriz de confucion."
      ],
      "metadata": {
        "id": "iBNGeiuUbKjp"
      }
    },
    {
      "cell_type": "code",
      "source": [
        "from sklearn.metrics import confusion_matrix"
      ],
      "metadata": {
        "id": "J8uBgvDPbRfw"
      },
      "execution_count": null,
      "outputs": []
    },
    {
      "cell_type": "markdown",
      "source": [
        "Elaboramos una matriz de confusion para analizar la precision."
      ],
      "metadata": {
        "id": "2w0tA93jbCf0"
      }
    },
    {
      "cell_type": "code",
      "source": [
        "cm = confusion_matrix(y_test, y_pred)\n",
        "print(cm)"
      ],
      "metadata": {
        "colab": {
          "base_uri": "https://localhost:8080/"
        },
        "id": "04xvszWcbCs3",
        "outputId": "959c3837-ea34-4b3c-bd0c-a8340898eab5"
      },
      "execution_count": null,
      "outputs": [
        {
          "output_type": "stream",
          "name": "stdout",
          "text": [
            "[[1504   91]\n",
            " [ 188  217]]\n"
          ]
        }
      ]
    },
    {
      "cell_type": "code",
      "source": [
        "# Porcentaje de precision.\n",
        "print(((cm[0][0]++cm[1][1])/2000))"
      ],
      "metadata": {
        "colab": {
          "base_uri": "https://localhost:8080/"
        },
        "id": "SylqQL7SdJEE",
        "outputId": "a09b7df4-88af-4d90-d9c3-a729b57a6086"
      },
      "execution_count": null,
      "outputs": [
        {
          "output_type": "stream",
          "name": "stdout",
          "text": [
            "0.8605\n"
          ]
        }
      ]
    },
    {
      "cell_type": "markdown",
      "source": [
        "## Reto"
      ],
      "metadata": {
        "id": "B_WHKSP0eR9J"
      }
    },
    {
      "cell_type": "markdown",
      "source": [
        "Utiliza nuestro modelo de RNA para predecir si el cliente con la siguiente información abandonará el banco:\n",
        "\n",
        "Geografia: Francia\n",
        "\n",
        "Puntaje de crédito: 600\n",
        "\n",
        "Género masculino\n",
        "\n",
        "Edad: 40 años de edad\n",
        "\n",
        "Tenencia: 3 años.\n",
        "\n",
        "Saldo: $ 60000\n",
        "\n",
        "Número de productos: 2\n",
        "\n",
        "¿Este cliente tiene una tarjeta de crédito? Sí\n",
        "\n",
        "¿Es este cliente un miembro activo? Sí\n",
        "\n",
        "Salario estimado: $ 50000\n",
        "\n",
        "Entonces, ¿deberíamos decir adiós a ese cliente?"
      ],
      "metadata": {
        "id": "GjvUuyY5eUS6"
      }
    },
    {
      "cell_type": "markdown",
      "source": [
        "Creamos una lista con los parametros que se dieron par sacar la prediccion."
      ],
      "metadata": {
        "id": "tDzwtb2ceYTB"
      }
    },
    {
      "cell_type": "code",
      "source": [
        "new_prediction = classifier.predict(sc_X.transform(np.array([[0,0,600, 1, 40, 3, 60000, 2, 1, 1, 50000]])))\n",
        "print(new_prediction)\n",
        "print(new_prediction > 0.5)"
      ],
      "metadata": {
        "colab": {
          "base_uri": "https://localhost:8080/"
        },
        "id": "Nr2WvekIeYca",
        "outputId": "0454b88f-b76e-4a50-a9e1-b3274c329d5a"
      },
      "execution_count": null,
      "outputs": [
        {
          "output_type": "stream",
          "name": "stdout",
          "text": [
            "1/1 [==============================] - 0s 18ms/step\n",
            "[[0.02616589]]\n",
            "[[False]]\n"
          ]
        }
      ]
    },
    {
      "cell_type": "markdown",
      "source": [
        "**Por lo tanto el nuevo cliente posiblemente sea Falso la salida. No se va a ir.**"
      ],
      "metadata": {
        "id": "agmjEGKYfA03"
      }
    },
    {
      "cell_type": "markdown",
      "source": [
        "## Parte 4-Evaluar, mejorar y ajustar la RNA"
      ],
      "metadata": {
        "id": "5EvzwbtouqYg"
      }
    },
    {
      "cell_type": "markdown",
      "source": [
        "### Evaluar la RNA"
      ],
      "metadata": {
        "id": "8Sjg91Awuw9B"
      }
    },
    {
      "cell_type": "markdown",
      "source": [
        "Importacion de las librerias para k-Foald Croos Validation"
      ],
      "metadata": {
        "id": "sOI6UmESu7bO"
      }
    },
    {
      "cell_type": "code",
      "source": [
        "# Funciones de alto nivel.\n",
        "from keras.wrappers.scikit_learn import KerasClassifier\n",
        "# Funcion del metodo.\n",
        "from sklearn.model_selection import cross_val_score"
      ],
      "metadata": {
        "id": "Ta8tZ8aHuxHf"
      },
      "execution_count": null,
      "outputs": []
    },
    {
      "cell_type": "markdown",
      "source": [
        "Creamos una funcion para la implementacion de el K-Foald Cross Validation."
      ],
      "metadata": {
        "id": "smsH9MmlvlDA"
      }
    },
    {
      "cell_type": "code",
      "source": [
        "# Funcion para crear el clasificador.\n",
        "def build_classifier():\n",
        "  # Inicializacion.\n",
        "  classifier = Sequential()\n",
        "\n",
        "  # Definicion de las capas de la Red Neuronal\n",
        "  classifier.add(Dense(units = 6, kernel_initializer = \"uniform\", \n",
        "                       activation = \"relu\", input_dim = 11))\n",
        "  classifier.add(Dense(units = 6, kernel_initializer = \"uniform\", \n",
        "                       activation = \"relu\"))\n",
        "  classifier.add(Dense(units = 1, kernel_initializer = \"uniform\", \n",
        "                       activation = \"sigmoid\"))\n",
        "  \n",
        "  # Fase de Compilacion del modelo.\n",
        "  classifier.compile(optimizer = \"adam\", loss = \"binary_crossentropy\", \n",
        "                     metrics = [\"accuracy\"])\n",
        "  # Retorno del clasificador.\n",
        "  return classifier"
      ],
      "metadata": {
        "id": "vuCcEBqGvkZ3"
      },
      "execution_count": null,
      "outputs": []
    },
    {
      "cell_type": "markdown",
      "source": [
        "Ajustamos la RNA para entrenar la RNA o los pliegues (Vector de precision)."
      ],
      "metadata": {
        "id": "5FQt_GVM3tCe"
      }
    },
    {
      "cell_type": "markdown",
      "source": [
        "*   el número de pliegues de validación cruzada (cv), el número de trabajos en paralelo (n_jobs) y el nivel de verbosidad (verbose)."
      ],
      "metadata": {
        "id": "vAxUCBTBv-N4"
      }
    },
    {
      "cell_type": "code",
      "source": [
        "classifier = KerasClassifier(build_fn = build_classifier, batch_size = 10, nb_epoch = 100)\n",
        "# Realizar la validación cruzada del modelo.\n",
        "accuracies = cross_val_score(estimator = classifier, X = X_train, y = y_train, cv = 10, n_jobs=-1, verbose = 1)"
      ],
      "metadata": {
        "colab": {
          "base_uri": "https://localhost:8080/"
        },
        "id": "Wwl8m6Nnx_rP",
        "outputId": "8cf616c5-f306-432c-cd36-027bb2476662"
      },
      "execution_count": null,
      "outputs": [
        {
          "output_type": "stream",
          "name": "stderr",
          "text": [
            "<ipython-input-16-144c095514f9>:1: DeprecationWarning: KerasClassifier is deprecated, use Sci-Keras (https://github.com/adriangb/scikeras) instead. See https://www.adriangb.com/scikeras/stable/migration.html for help migrating.\n",
            "  classifier = KerasClassifier(build_fn = build_classifier, batch_size = 10, nb_epoch = 100)\n",
            "[Parallel(n_jobs=-1)]: Using backend LokyBackend with 2 concurrent workers.\n",
            "[Parallel(n_jobs=-1)]: Done  10 out of  10 | elapsed:   29.8s finished\n"
          ]
        }
      ]
    },
    {
      "cell_type": "markdown",
      "source": [
        "Opservamos la precision optenida."
      ],
      "metadata": {
        "id": "ssDwmBr0HKps"
      }
    },
    {
      "cell_type": "code",
      "source": [
        "print(accuracies)"
      ],
      "metadata": {
        "colab": {
          "base_uri": "https://localhost:8080/"
        },
        "id": "KxQHILpUHK6G",
        "outputId": "25d2262a-4e5d-4f01-f468-8b5341854387"
      },
      "execution_count": 17,
      "outputs": [
        {
          "output_type": "stream",
          "name": "stdout",
          "text": [
            "[0.78625    0.79000002 0.80000001 0.78250003 0.81625003 0.81\n",
            " 0.78750002 0.79374999 0.79874998 0.79500002]\n"
          ]
        }
      ]
    },
    {
      "cell_type": "markdown",
      "source": [
        "Sacamos la Media y Varianza de nuestros "
      ],
      "metadata": {
        "id": "tP-GTcCV4C-c"
      }
    },
    {
      "cell_type": "code",
      "source": [
        "# Calculamos la Media.\n",
        "mean = accuracies.mean()\n",
        "# Calculamos la desviación estándar\n",
        "variance = accuracies.std()"
      ],
      "metadata": {
        "id": "0I2e8XJL4DPL"
      },
      "execution_count": 18,
      "outputs": []
    },
    {
      "cell_type": "markdown",
      "source": [
        "Obsevamos la Media y la Varianza (Desviacion Estandar)."
      ],
      "metadata": {
        "id": "fJLGS0LdHeOP"
      }
    },
    {
      "cell_type": "code",
      "source": [
        "print(mean)\n",
        "print(variance)"
      ],
      "metadata": {
        "colab": {
          "base_uri": "https://localhost:8080/"
        },
        "id": "xFGPD1x7HeVf",
        "outputId": "c4f58367-5641-436f-c55c-c4ce6350a7e4"
      },
      "execution_count": 19,
      "outputs": [
        {
          "output_type": "stream",
          "name": "stdout",
          "text": [
            "0.7960000097751617\n",
            "0.010105690527913859\n"
          ]
        }
      ]
    }
  ],
  "metadata": {
    "colab": {
      "provenance": []
    },
    "kernelspec": {
      "display_name": "Python 3",
      "name": "python3"
    }
  },
  "nbformat": 4,
  "nbformat_minor": 0
}